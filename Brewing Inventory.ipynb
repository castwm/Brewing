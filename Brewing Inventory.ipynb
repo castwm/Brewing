{
 "cells": [
  {
   "cell_type": "code",
   "execution_count": 11,
   "metadata": {},
   "outputs": [
    {
     "data": {
      "text/html": [
       "<div>\n",
       "<style scoped>\n",
       "    .dataframe tbody tr th:only-of-type {\n",
       "        vertical-align: middle;\n",
       "    }\n",
       "\n",
       "    .dataframe tbody tr th {\n",
       "        vertical-align: top;\n",
       "    }\n",
       "\n",
       "    .dataframe thead th {\n",
       "        text-align: right;\n",
       "    }\n",
       "</style>\n",
       "<table border=\"1\" class=\"dataframe\">\n",
       "  <thead>\n",
       "    <tr style=\"text-align: right;\">\n",
       "      <th></th>\n",
       "      <th>Grain</th>\n",
       "      <th>Weight (Lbs)</th>\n",
       "    </tr>\n",
       "  </thead>\n",
       "  <tbody>\n",
       "    <tr>\n",
       "      <th>0</th>\n",
       "      <td>Briess Pilsen M</td>\n",
       "      <td>1.50</td>\n",
       "    </tr>\n",
       "    <tr>\n",
       "      <th>1</th>\n",
       "      <td>Goldpils Vienna Malt</td>\n",
       "      <td>2.00</td>\n",
       "    </tr>\n",
       "    <tr>\n",
       "      <th>2</th>\n",
       "      <td>Light Roasted Barley</td>\n",
       "      <td>0.75</td>\n",
       "    </tr>\n",
       "    <tr>\n",
       "      <th>3</th>\n",
       "      <td>Belgian Special</td>\n",
       "      <td>0.75</td>\n",
       "    </tr>\n",
       "    <tr>\n",
       "      <th>4</th>\n",
       "      <td>Briess Carapils</td>\n",
       "      <td>0.50</td>\n",
       "    </tr>\n",
       "  </tbody>\n",
       "</table>\n",
       "</div>"
      ],
      "text/plain": [
       "                  Grain  Weight (Lbs)\n",
       "0       Briess Pilsen M          1.50\n",
       "1  Goldpils Vienna Malt          2.00\n",
       "2  Light Roasted Barley          0.75\n",
       "3       Belgian Special          0.75\n",
       "4       Briess Carapils          0.50"
      ]
     },
     "execution_count": 11,
     "metadata": {},
     "output_type": "execute_result"
    }
   ],
   "source": [
    "# Brewing Inventory\n",
    "\n",
    "import pandas as pd\n",
    "\n",
    "\n",
    "# Malt, Extract, Hop, Yeast\n",
    "malt = []\n",
    "yeast = []\n",
    "hops = []\n",
    "\n",
    "def add_malt(grain, weight): # Grain is grain type, weight is in Lbs\n",
    "    grain = [str(grain), weight]\n",
    "    malt.append(grain)\n",
    "    \n",
    "def add_yeast(yeast, pack_type):\n",
    "    yeast = [str(yeast), str(pack_type)]\n",
    "    yeast.append(yeast)\n",
    "\n",
    "def add_hops(hop, weight):\n",
    "    hop = [str(hop), weight]\n",
    "    hops.append(hop)\n",
    "\n",
    "    \n",
    "\n",
    "\n",
    "\n",
    "    \n",
    "\n",
    "\n",
    "\n",
    "\n",
    "   \n",
    "malt_inventory = pd.DataFrame(data = malt, columns = ['Grain', 'Weight (Lbs)'])\n",
    "yeast_inventory = pd.DataFrame(data = yeast, columns = ['Yeast', 'Dry or Liquid'])\n",
    "hops_inventory = pd.DataFrame(data = hops, columns = ['Hops', 'Weight (Ounces)'])\n",
    "\n",
    "malt_inventory.head()\n"
   ]
  },
  {
   "cell_type": "code",
   "execution_count": null,
   "metadata": {},
   "outputs": [],
   "source": [
    "inventory = ['Item','Weight','Dry or Liquid']\n",
    "# make a DataFrame with item weight and categories as the columns then use definitions to add and adjust values\n",
    "\n"
   ]
  },
  {
   "cell_type": "code",
   "execution_count": null,
   "metadata": {},
   "outputs": [],
   "source": [
    "class recipe(_init_)"
   ]
  }
 ],
 "metadata": {
  "kernelspec": {
   "display_name": "Python 3",
   "language": "python",
   "name": "python3"
  },
  "language_info": {
   "codemirror_mode": {
    "name": "ipython",
    "version": 3
   },
   "file_extension": ".py",
   "mimetype": "text/x-python",
   "name": "python",
   "nbconvert_exporter": "python",
   "pygments_lexer": "ipython3",
   "version": "3.7.6"
  }
 },
 "nbformat": 4,
 "nbformat_minor": 4
}

{
 "cells": [
  {
   "cell_type": "code",
   "execution_count": 20,
   "metadata": {},
   "outputs": [
    {
     "name": "stdout",
     "output_type": "stream",
     "text": [
      "Golden Dollars: 3\n",
      "Fifty Cent Pieces: 0\n",
      "Quarters: 0\n",
      "Dimes: 0\n",
      "Nickels: 1\n",
      "Pennies: 4\n"
     ]
    }
   ],
   "source": [
    "import math as mt\n",
    "\n",
    "def coins(change):\n",
    "    golden = mt.trunc(change/100)\n",
    "    rem = change % 100\n",
    "    fcent = mt.trunc(rem/50)\n",
    "    rem = rem % 50\n",
    "    quarters = mt.trunc(rem/25)\n",
    "    rem = rem % 25\n",
    "    dimes = mt.trunc(rem/10)\n",
    "    rem = rem%10\n",
    "    nickels = mt.trunc(rem/5)\n",
    "    rem = rem%5\n",
    "    pennies = rem\n",
    "    print('Golden Dollars: ' + str(golden) + \n",
    "          '\\nFifty Cent Pieces: ' +str(fcent) +\n",
    "          '\\nQuarters: ' + str(quarters) + \n",
    "          '\\nDimes: ' + str(dimes) + \n",
    "          '\\nNickels: ' + str(nickels) + \n",
    "          '\\nPennies: ' + str(pennies))\n",
    "\n",
    "coins(309)"
   ]
  },
  {
   "cell_type": "code",
   "execution_count": null,
   "metadata": {},
   "outputs": [],
   "source": []
  }
 ],
 "metadata": {
  "kernelspec": {
   "display_name": "Python 3",
   "language": "python",
   "name": "python3"
  },
  "language_info": {
   "codemirror_mode": {
    "name": "ipython",
    "version": 3
   },
   "file_extension": ".py",
   "mimetype": "text/x-python",
   "name": "python",
   "nbconvert_exporter": "python",
   "pygments_lexer": "ipython3",
   "version": "3.7.6"
  }
 },
 "nbformat": 4,
 "nbformat_minor": 4
}

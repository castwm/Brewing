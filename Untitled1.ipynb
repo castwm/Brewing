{
 "cells": [
  {
   "cell_type": "code",
   "execution_count": 3,
   "metadata": {},
   "outputs": [
    {
     "ename": "NameError",
     "evalue": "name 'flagship' is not defined",
     "output_type": "error",
     "traceback": [
      "\u001b[0;31m---------------------------------------------------------------------------\u001b[0m",
      "\u001b[0;31mNameError\u001b[0m                                 Traceback (most recent call last)",
      "\u001b[0;32m<ipython-input-3-cb4239612b57>\u001b[0m in \u001b[0;36m<module>\u001b[0;34m\u001b[0m\n\u001b[1;32m     19\u001b[0m         \u001b[0myeast\u001b[0m\u001b[0;34m.\u001b[0m\u001b[0mappend\u001b[0m\u001b[0;34m(\u001b[0m\u001b[0myeast\u001b[0m\u001b[0;34m)\u001b[0m\u001b[0;34m\u001b[0m\u001b[0;34m\u001b[0m\u001b[0m\n\u001b[1;32m     20\u001b[0m \u001b[0;34m\u001b[0m\u001b[0m\n\u001b[0;32m---> 21\u001b[0;31m \u001b[0mNew_Beer\u001b[0m\u001b[0;34m(\u001b[0m\u001b[0mflagship\u001b[0m\u001b[0;34m,\u001b[0m \u001b[0mamber\u001b[0m\u001b[0;34m)\u001b[0m\u001b[0;34m\u001b[0m\u001b[0;34m\u001b[0m\u001b[0m\n\u001b[0m",
      "\u001b[0;31mNameError\u001b[0m: name 'flagship' is not defined"
     ]
    }
   ],
   "source": [
    "import pandas as pd\n",
    "recipe = ['Grains]\n",
    "\n",
    "malt = []\n",
    "hops = []\n",
    "yeast = []\n",
    "    \n",
    "def add_malt(grain, weight): # Grain is grain type, weight is in Lbs\n",
    "        grain = [str(grain), weight]\n",
    "        malt.append(grain)\n",
    "\n",
    "def add_hops(hop, weight):\n",
    "        hop = [str(hop), weight]\n",
    "        hops.append(hop)\n",
    "    \n",
    "def add_yeast(yeast, pack_type):\n",
    "        yeast = [str(yeast), str(pack_type)]\n",
    "        yeast.append(yeast)\n",
    "    \n",
    "amber_ale = pd.DataFrame()\n",
    "\n"
   ]
  },
  {
   "cell_type": "code",
   "execution_count": null,
   "metadata": {},
   "outputs": [],
   "source": []
  }
 ],
 "metadata": {
  "kernelspec": {
   "display_name": "Python 3",
   "language": "python",
   "name": "python3"
  },
  "language_info": {
   "codemirror_mode": {
    "name": "ipython",
    "version": 3
   },
   "file_extension": ".py",
   "mimetype": "text/x-python",
   "name": "python",
   "nbconvert_exporter": "python",
   "pygments_lexer": "ipython3",
   "version": "3.7.6"
  }
 },
 "nbformat": 4,
 "nbformat_minor": 4
}
